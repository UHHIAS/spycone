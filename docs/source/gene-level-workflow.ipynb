{
 "cells": [
  {
   "cell_type": "code",
   "execution_count": null,
   "metadata": {},
   "outputs": [
    {
     "ename": "",
     "evalue": "",
     "output_type": "error",
     "traceback": [
      "\u001b[1;31mFailed to start the Kernel. \n",
      "\u001b[1;31mUnable to start Kernel 'test_spy (Python 3.8.13)' due to connection timeout. \n",
      "\u001b[1;31mView Jupyter <a href='command:jupyter.viewOutput'>log</a> for further details."
     ]
    }
   ],
   "source": [
    "import sys \n",
    "import pandas as pd\n",
    "import numpy as np\n",
    "import matplotlib\n",
    "import matplotlib.pyplot as plt\n",
    "import subprocess\n",
    "\n",
    "import spycone as spy"
   ]
  },
  {
   "cell_type": "markdown",
   "metadata": {},
   "source": [
    "# Gene-level workflow"
   ]
  },
  {
   "cell_type": "markdown",
   "metadata": {},
   "source": [
    "## Prepare the dataset"
   ]
  },
  {
   "cell_type": "markdown",
   "metadata": {},
   "source": [
    "We use a time series dataset of influenza infection with 9 time points. "
   ]
  },
  {
   "cell_type": "code",
   "execution_count": null,
   "metadata": {},
   "outputs": [
    {
     "ename": "",
     "evalue": "",
     "output_type": "error",
     "traceback": [
      "\u001b[1;31mRunning cells with 'Python 3.8.0 ('test_spycone')' requires ipykernel package.\n",
      "\u001b[1;31mRun the following command to install 'ipykernel' into the Python environment. \n",
      "\u001b[1;31mCommand: 'conda install -n test_spycone ipykernel --update-deps --force-reinstall'"
     ]
    }
   ],
   "source": [
    "#sample data\n",
    "subprocess.call(\"wget https://zenodo.org/record/7228475/files/normticonerhino_wide.csv?download=1 -O normticonerhino_wide.csv\", shell=True)\n",
    "\n",
    "influ = pd.read_csv(\"normticonerhino_wide.csv\", dtype={'entrezid': str})\n",
    "gene_list = influ['entrezid'] \n",
    "symbs = influ['symbol']\n",
    "\n",
    "flu_ts = influ.iloc[:,3:] ##filter out the entrez id and gene id column\n"
   ]
  },
  {
   "cell_type": "markdown",
   "metadata": {},
   "source": [
    "Import expression data with `DataSet` which stores the count matrix, list of gene ID, number of time points, and number of replicates. \\\n",
    "`ts` : time series data values with columns as each sample e.g. the order of the columns should be **sample1_rep1**, **sample1_rep2**, **sample2_rep1**, **sample2_rep2** and so on.... \\\n",
    "`gene_id` : the pandas series or list of gene id (can be entrez gene id or ensembl gene id) \\\n",
    "`species` : specify the species ID \\\n",
    "`reps1` : Number of replicates \\\n",
    "`timepts` : Number of time points \\\n",
    "`discreization_steps` : Steps to discretize the data values"
   ]
  },
  {
   "cell_type": "code",
   "execution_count": null,
   "metadata": {},
   "outputs": [
    {
     "ename": "",
     "evalue": "",
     "output_type": "error",
     "traceback": [
      "\u001b[1;31mRunning cells with 'Python 3.8.0 ('test_spycone')' requires ipykernel package.\n",
      "\u001b[1;31mRun the following command to install 'ipykernel' into the Python environment. \n",
      "\u001b[1;31mCommand: 'conda install -n test_spycone ipykernel --update-deps --force-reinstall'"
     ]
    }
   ],
   "source": [
    "flu_dset = spy.dataset(ts=flu_ts, \n",
    "                        gene_id = gene_list, \n",
    "                        symbs=gene_list,\n",
    "                        species=9606,\n",
    "                        keytype=\"entrezgeneid\",\n",
    "                        reps1 = 5, \n",
    "                        timepts = 9)"
   ]
  },
  {
   "cell_type": "markdown",
   "metadata": {},
   "source": [
    "Import biological network of your choice with `BioNetwork`, Spycone provides Biogrid, IID network in entrez ID as node name. Please specify the keytype if you are using a different ID."
   ]
  },
  {
   "cell_type": "code",
   "execution_count": null,
   "metadata": {},
   "outputs": [
    {
     "ename": "",
     "evalue": "",
     "output_type": "error",
     "traceback": [
      "\u001b[1;31mRunning cells with 'Python 3.8.0 ('test_spycone')' requires ipykernel package.\n",
      "\u001b[1;31mRun the following command to install 'ipykernel' into the Python environment. \n",
      "\u001b[1;31mCommand: 'conda install -n test_spycone ipykernel --update-deps --force-reinstall'"
     ]
    }
   ],
   "source": [
    "bionet = spy.BioNetwork(\"human\", data=(('weight',float),))"
   ]
  },
  {
   "cell_type": "markdown",
   "metadata": {},
   "source": [
    "## Preprocessing\n",
    "\n",
    "Filtering out genes that has expression across all time points lower than 1. By giving the biological network, it removes genes from the dataset that are not in the network."
   ]
  },
  {
   "cell_type": "code",
   "execution_count": null,
   "metadata": {},
   "outputs": [
    {
     "ename": "",
     "evalue": "",
     "output_type": "error",
     "traceback": [
      "\u001b[1;31mRunning cells with 'Python 3.8.0 ('test_spycone')' requires ipykernel package.\n",
      "\u001b[1;31mRun the following command to install 'ipykernel' into the Python environment. \n",
      "\u001b[1;31mCommand: 'conda install -n test_spycone ipykernel --update-deps --force-reinstall'"
     ]
    }
   ],
   "source": [
    "spy.preprocess(flu_dset)"
   ]
  },
  {
   "cell_type": "markdown",
   "metadata": {},
   "source": [
    "## Clustering\n",
    "\n",
    "`clustering` create clustering object that provides varies algorithms and result storage."
   ]
  },
  {
   "cell_type": "code",
   "execution_count": null,
   "metadata": {},
   "outputs": [
    {
     "ename": "",
     "evalue": "",
     "output_type": "error",
     "traceback": [
      "\u001b[1;31mRunning cells with 'Python 3.8.0 ('test_spycone')' requires ipykernel package.\n",
      "\u001b[1;31mRun the following command to install 'ipykernel' into the Python environment. \n",
      "\u001b[1;31mCommand: 'conda install -n test_spycone ipykernel --update-deps --force-reinstall'"
     ]
    }
   ],
   "source": [
    "asclu = spy.clustering(flu_dset, algorithm='hierarchical', metrics=\"correlation\", input_type=\"expression\", n_clusters=10, composite=False)\n",
    "c = asclu.find_clusters()"
   ]
  },
  {
   "cell_type": "markdown",
   "metadata": {},
   "source": [
    "visualizing clustering"
   ]
  },
  {
   "cell_type": "code",
   "execution_count": null,
   "metadata": {},
   "outputs": [
    {
     "ename": "",
     "evalue": "",
     "output_type": "error",
     "traceback": [
      "\u001b[1;31mRunning cells with 'Python 3.8.0 ('test_spycone')' requires ipykernel package.\n",
      "\u001b[1;31mRun the following command to install 'ipykernel' into the Python environment. \n",
      "\u001b[1;31mCommand: 'conda install -n test_spycone ipykernel --update-deps --force-reinstall'"
     ]
    }
   ],
   "source": [
    "%matplotlib inline\n",
    "spy.vis_all_clusters(asclu, col_wrap=5)"
   ]
  },
  {
   "cell_type": "markdown",
   "metadata": {},
   "source": [
    "## Gene set enrichment analysis\n",
    "\n",
    "Perform gene set enrichment analysis using `clusters_gsea`. Change the gene_sets parameter into the choice of your knowledge base or gene set database, e.g. Reactome, KEGG, etc. Use `spy.list_genesets` to view the available knowledge base."
   ]
  },
  {
   "cell_type": "code",
   "execution_count": null,
   "metadata": {},
   "outputs": [
    {
     "ename": "",
     "evalue": "",
     "output_type": "error",
     "traceback": [
      "\u001b[1;31mRunning cells with 'Python 3.8.0 ('test_spycone')' requires ipykernel package.\n",
      "\u001b[1;31mRun the following command to install 'ipykernel' into the Python environment. \n",
      "\u001b[1;31mCommand: 'conda install -n test_spycone ipykernel --update-deps --force-reinstall'"
     ]
    }
   ],
   "source": [
    "sys.path.insert(0, \"../../../\")\n",
    "from spycone_pkg.spycone.go_terms import clusters_gsea\n",
    "\n",
    "asclu_go, _ = clusters_gsea(flu_dset, \"hsapiens\", method=\"gsea\")"
   ]
  },
  {
   "cell_type": "code",
   "execution_count": null,
   "metadata": {},
   "outputs": [
    {
     "ename": "",
     "evalue": "",
     "output_type": "error",
     "traceback": [
      "\u001b[1;31mRunning cells with 'Python 3.8.0 ('test_spycone')' requires ipykernel package.\n",
      "\u001b[1;31mRun the following command to install 'ipykernel' into the Python environment. \n",
      "\u001b[1;31mCommand: 'conda install -n test_spycone ipykernel --update-deps --force-reinstall'"
     ]
    }
   ],
   "source": [
    "from spycone_pkg.spycone.visualize import gsea_plot\n",
    "gsea_plot(asclu_go, cluster=5, nterms=15)"
   ]
  },
  {
   "cell_type": "markdown",
   "metadata": {},
   "source": [
    "## Run DOMINO"
   ]
  },
  {
   "cell_type": "code",
   "execution_count": null,
   "metadata": {},
   "outputs": [
    {
     "ename": "",
     "evalue": "",
     "output_type": "error",
     "traceback": [
      "\u001b[1;31mRunning cells with 'Python 3.8.0 ('test_spycone')' requires ipykernel package.\n",
      "\u001b[1;31mRun the following command to install 'ipykernel' into the Python environment. \n",
      "\u001b[1;31mCommand: 'conda install -n test_spycone ipykernel --update-deps --force-reinstall'"
     ]
    }
   ],
   "source": [
    "mods = spy.run_domino(asclu, network_file=bionet, output_file_path=\"newslices.txt\")"
   ]
  },
  {
   "cell_type": "markdown",
   "metadata": {},
   "source": [
    "To visualize the modules, use `vis_modules`. "
   ]
  },
  {
   "cell_type": "code",
   "execution_count": null,
   "metadata": {},
   "outputs": [
    {
     "ename": "",
     "evalue": "",
     "output_type": "error",
     "traceback": [
      "\u001b[1;31mRunning cells with 'Python 3.8.0 ('test_spycone')' requires ipykernel package.\n",
      "\u001b[1;31mRun the following command to install 'ipykernel' into the Python environment. \n",
      "\u001b[1;31mCommand: 'conda install -n test_spycone ipykernel --update-deps --force-reinstall'"
     ]
    }
   ],
   "source": [
    "%matplotlib inline\n",
    "spy.vis_modules(mods, flu_dset, cluster=5, size=0)"
   ]
  },
  {
   "cell_type": "markdown",
   "metadata": {},
   "source": [
    "It is also possible to visualize modules with javascript, use `vis_better_modules` and input a desired directory, the function will generate networks with dot format (Graphviz) (https://github.com/pydot/pydot)."
   ]
  },
  {
   "cell_type": "markdown",
   "metadata": {},
   "source": [
    "vis_better_modules(flu_dset, mods, cluster=5, dir='/path/to/file')"
   ]
  }
 ],
 "metadata": {
  "kernelspec": {
   "display_name": "Python 3.8.13 ('test_spy')",
   "language": "python",
   "name": "python3"
  },
  "language_info": {
   "codemirror_mode": {
    "name": "ipython",
    "version": 3
   },
   "file_extension": ".py",
   "mimetype": "text/x-python",
   "name": "python",
   "nbconvert_exporter": "python",
   "pygments_lexer": "ipython3",
   "version": "3.8.13"
  },
  "orig_nbformat": 4,
  "vscode": {
   "interpreter": {
    "hash": "2508cb4692c391e25eba6d3b1e91b1f0ef3944fb2d99fa195f2e9f6d29d4b70a"
   }
  }
 },
 "nbformat": 4,
 "nbformat_minor": 2
}
